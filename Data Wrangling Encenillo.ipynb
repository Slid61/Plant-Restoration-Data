{
 "cells": [
  {
   "cell_type": "code",
   "execution_count": 1,
   "id": "316193c4",
   "metadata": {},
   "outputs": [],
   "source": [
    "import numpy as np\n",
    "import pandas as pd\n",
    "import seaborn as sns\n",
    "import matplotlib.pyplot as plt\n",
    "\n",
    "%matplotlib inline\n",
    "\n",
    "df_AF = pd.read_excel(r\"Original Data\\Sistematización_AF_Monitoreo 6.xlsx\")"
   ]
  },
  {
   "cell_type": "code",
   "execution_count": 13,
   "id": "dad1960f",
   "metadata": {
    "scrolled": true
   },
   "outputs": [
    {
     "data": {
      "text/plain": [
       "Index(['Fecha', 'ID', 'Even_mon', 'Especie', 'No_Mod', 'No_Ind', 'Alt1_Ind',\n",
       "       'Alt2_Ind', 'Alt3_Ind', 'Alt_Ind Promedio', 'DAB1_Ind', 'DAB2_Ind',\n",
       "       'DAB3_Ind', 'DAB_prom', 'Diam_1_Ind', 'Diam_2_Ind', 'Area_cop_ind',\n",
       "       'Observaciones_Crec', 'Sup_Ind', 'Est_Fit_Ind', 'Coloracion',\n",
       "       'Vigor bajo', 'Herbivoria', 'Patogenos', 'Competencia', 'Daño mecanico',\n",
       "       'Anegamiento', 'Planta no encontrada', 'Daño por Curi', 'Rebrotando',\n",
       "       'Observaciones_Sup'],\n",
       "      dtype='object')"
      ]
     },
     "execution_count": 13,
     "metadata": {},
     "output_type": "execute_result"
    }
   ],
   "source": [
    "df_AF.columns"
   ]
  },
  {
   "cell_type": "code",
   "execution_count": 20,
   "id": "d287f449",
   "metadata": {},
   "outputs": [
    {
     "data": {
      "text/plain": [
       "Fecha                    object\n",
       "ID                        Int64\n",
       "Even_mon                 string\n",
       "Especie                  string\n",
       "No_Mod                    Int64\n",
       "No_Ind                    Int64\n",
       "Alt1_Ind                float64\n",
       "Alt2_Ind                Float64\n",
       "Alt3_Ind                Float64\n",
       "Alt_Ind Promedio        float64\n",
       "DAB1_Ind                float64\n",
       "DAB2_Ind                Float64\n",
       "DAB3_Ind                float64\n",
       "DAB_prom                float64\n",
       "Diam_1_Ind              Float64\n",
       "Diam_2_Ind              Float64\n",
       "Area_cop_ind            Float64\n",
       "Observaciones_Crec       string\n",
       "Sup_Ind                  string\n",
       "Est_Fit_Ind               Int64\n",
       "Coloracion               string\n",
       "Vigor bajo               string\n",
       "Herbivoria               string\n",
       "Patogenos                string\n",
       "Competencia              string\n",
       "Daño mecanico            string\n",
       "Anegamiento              string\n",
       "Planta no encontrada     string\n",
       "Daño por Curi            string\n",
       "Rebrotando               string\n",
       "Observaciones_Sup        string\n",
       "dtype: object"
      ]
     },
     "execution_count": 20,
     "metadata": {},
     "output_type": "execute_result"
    }
   ],
   "source": [
    "df_AF.dtypes"
   ]
  },
  {
   "cell_type": "code",
   "execution_count": 19,
   "id": "d95351d0",
   "metadata": {},
   "outputs": [],
   "source": [
    "#Get rid of 'Object' dtypes.\n",
    "df_AF = df_AF.convert_dtypes()\n",
    "keys = ['Alt1_Ind','Alt_Ind Promedio','DAB1_Ind','DAB3_Ind','DAB_prom']\n",
    "for item in keys:\n",
    "    df_AF[item] = pd.to_numeric(df_AF[item], errors='coerce')"
   ]
  },
  {
   "cell_type": "code",
   "execution_count": 32,
   "id": "dd0d5e15",
   "metadata": {
    "scrolled": true
   },
   "outputs": [
    {
     "data": {
      "text/html": [
       "<div>\n",
       "<style scoped>\n",
       "    .dataframe tbody tr th:only-of-type {\n",
       "        vertical-align: middle;\n",
       "    }\n",
       "\n",
       "    .dataframe tbody tr th {\n",
       "        vertical-align: top;\n",
       "    }\n",
       "\n",
       "    .dataframe thead th {\n",
       "        text-align: right;\n",
       "    }\n",
       "</style>\n",
       "<table border=\"1\" class=\"dataframe\">\n",
       "  <thead>\n",
       "    <tr style=\"text-align: right;\">\n",
       "      <th></th>\n",
       "      <th></th>\n",
       "      <th></th>\n",
       "      <th>ID</th>\n",
       "      <th>No_Ind</th>\n",
       "      <th>Alt1_Ind</th>\n",
       "      <th>Alt2_Ind</th>\n",
       "      <th>Alt3_Ind</th>\n",
       "      <th>Alt_Ind Promedio</th>\n",
       "      <th>DAB1_Ind</th>\n",
       "      <th>DAB2_Ind</th>\n",
       "      <th>DAB3_Ind</th>\n",
       "      <th>DAB_prom</th>\n",
       "      <th>Diam_1_Ind</th>\n",
       "      <th>Diam_2_Ind</th>\n",
       "      <th>Area_cop_ind</th>\n",
       "      <th>Est_Fit_Ind</th>\n",
       "    </tr>\n",
       "    <tr>\n",
       "      <th>Even_mon</th>\n",
       "      <th>Especie</th>\n",
       "      <th>No_Mod</th>\n",
       "      <th></th>\n",
       "      <th></th>\n",
       "      <th></th>\n",
       "      <th></th>\n",
       "      <th></th>\n",
       "      <th></th>\n",
       "      <th></th>\n",
       "      <th></th>\n",
       "      <th></th>\n",
       "      <th></th>\n",
       "      <th></th>\n",
       "      <th></th>\n",
       "      <th></th>\n",
       "      <th></th>\n",
       "    </tr>\n",
       "  </thead>\n",
       "  <tbody>\n",
       "    <tr>\n",
       "      <th rowspan=\"5\" valign=\"top\">T1</th>\n",
       "      <th rowspan=\"5\" valign=\"top\">Ageratina asclepiadea</th>\n",
       "      <th>5</th>\n",
       "      <td>239.0</td>\n",
       "      <td>239.0</td>\n",
       "      <td>57.000000</td>\n",
       "      <td>0.0</td>\n",
       "      <td>0.0</td>\n",
       "      <td>57.000000</td>\n",
       "      <td>0.600000</td>\n",
       "      <td>0.0</td>\n",
       "      <td>0.0</td>\n",
       "      <td>0.600000</td>\n",
       "      <td>25.0</td>\n",
       "      <td>17.0</td>\n",
       "      <td>212.5</td>\n",
       "      <td>0.0</td>\n",
       "    </tr>\n",
       "    <tr>\n",
       "      <th>9</th>\n",
       "      <td>438.0</td>\n",
       "      <td>438.0</td>\n",
       "      <td>23.714286</td>\n",
       "      <td>0.0</td>\n",
       "      <td>0.0</td>\n",
       "      <td>23.714286</td>\n",
       "      <td>0.385714</td>\n",
       "      <td>0.0</td>\n",
       "      <td>0.0</td>\n",
       "      <td>0.385714</td>\n",
       "      <td>15.857143</td>\n",
       "      <td>13.142857</td>\n",
       "      <td>111.571429</td>\n",
       "      <td>0.0</td>\n",
       "    </tr>\n",
       "    <tr>\n",
       "      <th>12</th>\n",
       "      <td>585.0</td>\n",
       "      <td>585.0</td>\n",
       "      <td>20.428571</td>\n",
       "      <td>0.0</td>\n",
       "      <td>0.0</td>\n",
       "      <td>20.428571</td>\n",
       "      <td>0.357143</td>\n",
       "      <td>0.0</td>\n",
       "      <td>0.0</td>\n",
       "      <td>0.357143</td>\n",
       "      <td>8.0</td>\n",
       "      <td>6.428571</td>\n",
       "      <td>25.714286</td>\n",
       "      <td>1.333333</td>\n",
       "    </tr>\n",
       "    <tr>\n",
       "      <th>19</th>\n",
       "      <td>928.0</td>\n",
       "      <td>928.0</td>\n",
       "      <td>43.714286</td>\n",
       "      <td>0.0</td>\n",
       "      <td>0.0</td>\n",
       "      <td>43.714286</td>\n",
       "      <td>0.435714</td>\n",
       "      <td>0.0</td>\n",
       "      <td>0.0</td>\n",
       "      <td>0.435714</td>\n",
       "      <td>21.285714</td>\n",
       "      <td>13.428571</td>\n",
       "      <td>143.857143</td>\n",
       "      <td>0.0</td>\n",
       "    </tr>\n",
       "    <tr>\n",
       "      <th>23</th>\n",
       "      <td>1124.0</td>\n",
       "      <td>1124.0</td>\n",
       "      <td>40.428571</td>\n",
       "      <td>0.0</td>\n",
       "      <td>0.0</td>\n",
       "      <td>40.428571</td>\n",
       "      <td>0.414286</td>\n",
       "      <td>0.0</td>\n",
       "      <td>0.0</td>\n",
       "      <td>0.414286</td>\n",
       "      <td>21.428571</td>\n",
       "      <td>17.857143</td>\n",
       "      <td>205.714286</td>\n",
       "      <td>0.0</td>\n",
       "    </tr>\n",
       "    <tr>\n",
       "      <th>...</th>\n",
       "      <th>...</th>\n",
       "      <th>...</th>\n",
       "      <td>...</td>\n",
       "      <td>...</td>\n",
       "      <td>...</td>\n",
       "      <td>...</td>\n",
       "      <td>...</td>\n",
       "      <td>...</td>\n",
       "      <td>...</td>\n",
       "      <td>...</td>\n",
       "      <td>...</td>\n",
       "      <td>...</td>\n",
       "      <td>...</td>\n",
       "      <td>...</td>\n",
       "      <td>...</td>\n",
       "      <td>...</td>\n",
       "    </tr>\n",
       "    <tr>\n",
       "      <th rowspan=\"5\" valign=\"top\">T6</th>\n",
       "      <th rowspan=\"2\" valign=\"top\">Viburnum tinoides</th>\n",
       "      <th>55</th>\n",
       "      <td>2675.0</td>\n",
       "      <td>2675.0</td>\n",
       "      <td>84.250000</td>\n",
       "      <td>&lt;NA&gt;</td>\n",
       "      <td>&lt;NA&gt;</td>\n",
       "      <td>67.400000</td>\n",
       "      <td>6.000000</td>\n",
       "      <td>&lt;NA&gt;</td>\n",
       "      <td>NaN</td>\n",
       "      <td>4.800000</td>\n",
       "      <td>17.0</td>\n",
       "      <td>15.666667</td>\n",
       "      <td>80.8</td>\n",
       "      <td>1.75</td>\n",
       "    </tr>\n",
       "    <tr>\n",
       "      <th>56</th>\n",
       "      <td>2741.5</td>\n",
       "      <td>2741.5</td>\n",
       "      <td>97.333333</td>\n",
       "      <td>&lt;NA&gt;</td>\n",
       "      <td>&lt;NA&gt;</td>\n",
       "      <td>97.333333</td>\n",
       "      <td>6.833333</td>\n",
       "      <td>&lt;NA&gt;</td>\n",
       "      <td>NaN</td>\n",
       "      <td>6.833333</td>\n",
       "      <td>23.0</td>\n",
       "      <td>20.5</td>\n",
       "      <td>243.916667</td>\n",
       "      <td>1.333333</td>\n",
       "    </tr>\n",
       "    <tr>\n",
       "      <th rowspan=\"3\" valign=\"top\">Weinmannia sp</th>\n",
       "      <th>8</th>\n",
       "      <td>373.0</td>\n",
       "      <td>373.0</td>\n",
       "      <td>73.000000</td>\n",
       "      <td>&lt;NA&gt;</td>\n",
       "      <td>&lt;NA&gt;</td>\n",
       "      <td>73.000000</td>\n",
       "      <td>8.500000</td>\n",
       "      <td>&lt;NA&gt;</td>\n",
       "      <td>NaN</td>\n",
       "      <td>8.500000</td>\n",
       "      <td>22.5</td>\n",
       "      <td>23.5</td>\n",
       "      <td>355.0</td>\n",
       "      <td>1.0</td>\n",
       "    </tr>\n",
       "    <tr>\n",
       "      <th>10</th>\n",
       "      <td>476.0</td>\n",
       "      <td>476.0</td>\n",
       "      <td>33.000000</td>\n",
       "      <td>&lt;NA&gt;</td>\n",
       "      <td>&lt;NA&gt;</td>\n",
       "      <td>33.000000</td>\n",
       "      <td>4.000000</td>\n",
       "      <td>&lt;NA&gt;</td>\n",
       "      <td>NaN</td>\n",
       "      <td>4.000000</td>\n",
       "      <td>15.0</td>\n",
       "      <td>14.0</td>\n",
       "      <td>105.0</td>\n",
       "      <td>1.0</td>\n",
       "    </tr>\n",
       "    <tr>\n",
       "      <th>14</th>\n",
       "      <td>669.5</td>\n",
       "      <td>669.5</td>\n",
       "      <td>76.166667</td>\n",
       "      <td>&lt;NA&gt;</td>\n",
       "      <td>&lt;NA&gt;</td>\n",
       "      <td>76.166667</td>\n",
       "      <td>13.500000</td>\n",
       "      <td>&lt;NA&gt;</td>\n",
       "      <td>NaN</td>\n",
       "      <td>13.500000</td>\n",
       "      <td>40.5</td>\n",
       "      <td>34.666667</td>\n",
       "      <td>712.916667</td>\n",
       "      <td>2.0</td>\n",
       "    </tr>\n",
       "  </tbody>\n",
       "</table>\n",
       "<p>2508 rows × 14 columns</p>\n",
       "</div>"
      ],
      "text/plain": [
       "                                           ID  No_Ind   Alt1_Ind  Alt2_Ind  \\\n",
       "Even_mon Especie               No_Mod                                        \n",
       "T1       Ageratina asclepiadea 5        239.0   239.0  57.000000       0.0   \n",
       "                               9        438.0   438.0  23.714286       0.0   \n",
       "                               12       585.0   585.0  20.428571       0.0   \n",
       "                               19       928.0   928.0  43.714286       0.0   \n",
       "                               23      1124.0  1124.0  40.428571       0.0   \n",
       "...                                       ...     ...        ...       ...   \n",
       "T6       Viburnum tinoides     55      2675.0  2675.0  84.250000      <NA>   \n",
       "                               56      2741.5  2741.5  97.333333      <NA>   \n",
       "         Weinmannia sp         8        373.0   373.0  73.000000      <NA>   \n",
       "                               10       476.0   476.0  33.000000      <NA>   \n",
       "                               14       669.5   669.5  76.166667      <NA>   \n",
       "\n",
       "                                       Alt3_Ind  Alt_Ind Promedio   DAB1_Ind  \\\n",
       "Even_mon Especie               No_Mod                                          \n",
       "T1       Ageratina asclepiadea 5            0.0         57.000000   0.600000   \n",
       "                               9            0.0         23.714286   0.385714   \n",
       "                               12           0.0         20.428571   0.357143   \n",
       "                               19           0.0         43.714286   0.435714   \n",
       "                               23           0.0         40.428571   0.414286   \n",
       "...                                         ...               ...        ...   \n",
       "T6       Viburnum tinoides     55          <NA>         67.400000   6.000000   \n",
       "                               56          <NA>         97.333333   6.833333   \n",
       "         Weinmannia sp         8           <NA>         73.000000   8.500000   \n",
       "                               10          <NA>         33.000000   4.000000   \n",
       "                               14          <NA>         76.166667  13.500000   \n",
       "\n",
       "                                       DAB2_Ind  DAB3_Ind   DAB_prom  \\\n",
       "Even_mon Especie               No_Mod                                  \n",
       "T1       Ageratina asclepiadea 5            0.0       0.0   0.600000   \n",
       "                               9            0.0       0.0   0.385714   \n",
       "                               12           0.0       0.0   0.357143   \n",
       "                               19           0.0       0.0   0.435714   \n",
       "                               23           0.0       0.0   0.414286   \n",
       "...                                         ...       ...        ...   \n",
       "T6       Viburnum tinoides     55          <NA>       NaN   4.800000   \n",
       "                               56          <NA>       NaN   6.833333   \n",
       "         Weinmannia sp         8           <NA>       NaN   8.500000   \n",
       "                               10          <NA>       NaN   4.000000   \n",
       "                               14          <NA>       NaN  13.500000   \n",
       "\n",
       "                                       Diam_1_Ind  Diam_2_Ind  Area_cop_ind  \\\n",
       "Even_mon Especie               No_Mod                                         \n",
       "T1       Ageratina asclepiadea 5             25.0        17.0         212.5   \n",
       "                               9        15.857143   13.142857    111.571429   \n",
       "                               12             8.0    6.428571     25.714286   \n",
       "                               19       21.285714   13.428571    143.857143   \n",
       "                               23       21.428571   17.857143    205.714286   \n",
       "...                                           ...         ...           ...   \n",
       "T6       Viburnum tinoides     55            17.0   15.666667          80.8   \n",
       "                               56            23.0        20.5    243.916667   \n",
       "         Weinmannia sp         8             22.5        23.5         355.0   \n",
       "                               10            15.0        14.0         105.0   \n",
       "                               14            40.5   34.666667    712.916667   \n",
       "\n",
       "                                       Est_Fit_Ind  \n",
       "Even_mon Especie               No_Mod               \n",
       "T1       Ageratina asclepiadea 5               0.0  \n",
       "                               9               0.0  \n",
       "                               12         1.333333  \n",
       "                               19              0.0  \n",
       "                               23              0.0  \n",
       "...                                            ...  \n",
       "T6       Viburnum tinoides     55             1.75  \n",
       "                               56         1.333333  \n",
       "         Weinmannia sp         8               1.0  \n",
       "                               10              1.0  \n",
       "                               14              2.0  \n",
       "\n",
       "[2508 rows x 14 columns]"
      ]
     },
     "execution_count": 32,
     "metadata": {},
     "output_type": "execute_result"
    }
   ],
   "source": [
    "grup = df_AF.groupby(['No_Mod']).mean()\n",
    "grup2 = df_AF.groupby(['Even_mon','Especie','No_Mod']).mean()\n",
    "grup2"
   ]
  },
  {
   "cell_type": "code",
   "execution_count": 38,
   "id": "06be8304",
   "metadata": {},
   "outputs": [
    {
     "data": {
      "text/plain": [
       "<StringArray>\n",
       "['T1', 'T2', 'T3', 'T4', 'T5', 'T6']\n",
       "Length: 6, dtype: string"
      ]
     },
     "execution_count": 38,
     "metadata": {},
     "output_type": "execute_result"
    }
   ],
   "source": [
    "eventos = df_AF['Even_mon'].unique()\n"
   ]
  },
  {
   "cell_type": "code",
   "execution_count": 39,
   "id": "9aa88e35",
   "metadata": {
    "scrolled": false
   },
   "outputs": [
    {
     "data": {
      "image/png": "[encoded data removed]",
      "text/plain": [
       "<Figure size 1440x720 with 1 Axes>"
      ]
     },
     "metadata": {
      "needs_background": "light"
     },
     "output_type": "display_data"
    },
    {
     "data": {
      "image/png": "[encoded data removed]",
      "text/plain": [
       "<Figure size 1440x720 with 1 Axes>"
      ]
     },
     "metadata": {
      "needs_background": "light"
     },
     "output_type": "display_data"
    },
    {
     "data": {
      "image/png": "[encoded data removed]",
      "text/plain": [
       "<Figure size 1440x720 with 1 Axes>"
      ]
     },
     "metadata": {
      "needs_background": "light"
     },
     "output_type": "display_data"
    },
    {
     "data": {
      "image/png": "[encoded data removed]",
      "text/plain": [
       "<Figure size 1440x720 with 1 Axes>"
      ]
     },
     "metadata": {
      "needs_background": "light"
     },
     "output_type": "display_data"
    },
    {
     "data": {
      "image/png": "[encoded data removed]",
      "text/plain": [
       "<Figure size 1440x720 with 1 Axes>"
      ]
     },
     "metadata": {
      "needs_background": "light"
     },
     "output_type": "display_data"
    },
    {
     "data": {
      "image/png": "[encoded data removed]",
      "text/plain": [
       "<Figure size 1440x720 with 1 Axes>"
      ]
     },
     "metadata": {
      "needs_background": "light"
     },
     "output_type": "display_data"
    }
   ],
   "source": [
    "for item in eventos:\n",
    "    \n",
    "    plt.figure(figsize=(20,10))\n",
    "    plt.title(label=item)\n",
    "    grup2.loc[item].loc['Lupinus bogotensis']['Alt_Ind Promedio'].plot(kind='bar');"
   ]
  },
  {
   "cell_type": "code",
   "execution_count": 12,
   "id": "999d63b5",
   "metadata": {},
   "outputs": [],
   "source": [
    "#Save any modifications to the data\n",
    "writer = pd.ExcelWriter('Encenillo.xlsx', engine='openpyxl')\n",
    "df_AF.to_excel(writer, index=False, engine='openpyxl')"
   ]
  },
  {
   "cell_type": "code",
   "execution_count": null,
   "id": "1ea7fe02",
   "metadata": {},
   "outputs": [],
   "source": []
  }
 ],
 "metadata": {
  "kernelspec": {
   "display_name": "Python 3",
   "language": "python",
   "name": "python3"
  },
  "language_info": {
   "codemirror_mode": {
    "name": "ipython",
    "version": 3
   },
   "file_extension": ".py",
   "mimetype": "text/x-python",
   "name": "python",
   "nbconvert_exporter": "python",
   "pygments_lexer": "ipython3",
   "version": "3.8.8"
  }
 },
 "nbformat": 4,
 "nbformat_minor": 5
}
